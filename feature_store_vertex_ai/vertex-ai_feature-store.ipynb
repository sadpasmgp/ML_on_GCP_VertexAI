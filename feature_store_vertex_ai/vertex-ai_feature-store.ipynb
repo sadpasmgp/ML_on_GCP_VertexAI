{
 "cells": [
  {
   "cell_type": "code",
   "execution_count": null,
   "id": "8f933590-9553-40f5-b1b2-b3579376851c",
   "metadata": {},
   "outputs": [],
   "source": [
    "import os\n",
    "IS_GOOGLE_CLOUD_NOTEBOOK = os.path.exists(\"/opt/deeplearning/metadata/env_version\")\n",
    "\n",
    "USER_FLAG = \"\"\n",
    "if IS_GOOGLE_CLOUD_NOTEBOOK:\n",
    "    USER_FLAG = \"--user\""
   ]
  },
  {
   "cell_type": "code",
   "execution_count": null,
   "id": "137dcad6-38d0-482c-abac-b2e22c55c764",
   "metadata": {},
   "outputs": [],
   "source": [
    "! pip install {USER_FLAG} google-cloud-aiplatform"
   ]
  },
  {
   "cell_type": "code",
   "execution_count": null,
   "id": "a81b6ace-8e29-450a-a74f-f2ee410d8f2a",
   "metadata": {},
   "outputs": [],
   "source": [
    "import os\n",
    "\n",
    "PROJECT_ID = \"\"\n",
    "\n",
    "# Get your Google Cloud project ID from gcloud\n",
    "if not os.getenv(\"IS_TESTING\"):\n",
    "    shell_output=!gcloud config list --format 'value(core.project)' 2>/dev/null\n",
    "    PROJECT_ID = shell_output[0]\n",
    "    print(\"Project ID: \", PROJECT_ID)"
   ]
  },
  {
   "cell_type": "code",
   "execution_count": null,
   "id": "c70dd172-ec07-42e8-ae97-30cb15b37232",
   "metadata": {},
   "outputs": [],
   "source": [
    "'''\n",
    "if PROJECT_ID == \"\" or PROJECT_ID is None:\n",
    "    PROJECT_ID = \"vertex-ai-123\" \n",
    "'''"
   ]
  },
  {
   "cell_type": "code",
   "execution_count": null,
   "id": "7cbad1cc-b925-4a3b-83a5-0e73046a5c41",
   "metadata": {},
   "outputs": [],
   "source": [
    "REGION = \"us-central1\"\n",
    "FEATURESTORE_ID=\"fs_test\"\n",
    "Entity_name=\"customer_info\"\n"
   ]
  },
  {
   "cell_type": "code",
   "execution_count": null,
   "id": "47144381-fab6-47ea-96f3-783e40fd0159",
   "metadata": {},
   "outputs": [],
   "source": [
    "API_ENDPOINT = \"us-central1-aiplatform.googleapis.com\""
   ]
  },
  {
   "cell_type": "code",
   "execution_count": null,
   "id": "7abae35f-87f7-4974-aa59-77b6b22e81ea",
   "metadata": {},
   "outputs": [],
   "source": [
    "from google.cloud.aiplatform_v1 import (FeaturestoreOnlineServingServiceClient,\n",
    "                                        FeaturestoreServiceClient)\n",
    "from google.cloud.aiplatform_v1.types import FeatureSelector, IdMatcher\n",
    "from google.cloud.aiplatform_v1.types import entity_type as entity_type_pb2\n",
    "from google.cloud.aiplatform_v1.types import feature as feature_pb2\n",
    "from google.cloud.aiplatform_v1.types import featurestore as featurestore_pb2\n",
    "from google.cloud.aiplatform_v1.types import \\\n",
    "    featurestore_online_service as featurestore_online_service_pb2\n",
    "from google.cloud.aiplatform_v1.types import \\\n",
    "    featurestore_service as featurestore_service_pb2\n",
    "from google.cloud.aiplatform_v1.types import io as io_pb2\n",
    "from google.protobuf.duration_pb2 import Duration\n",
    "import datetime"
   ]
  },
  {
   "cell_type": "code",
   "execution_count": null,
   "id": "7e5176be-69d0-4b24-bc25-d44237bab7b2",
   "metadata": {},
   "outputs": [],
   "source": [
    "admin_client = FeaturestoreServiceClient(client_options={\"api_endpoint\": API_ENDPOINT})\n",
    "data_client = FeaturestoreOnlineServingServiceClient(\n",
    "    client_options={\"api_endpoint\": API_ENDPOINT}) #needed while fetching data from the feature store. \n",
    "BASE_RESOURCE_PATH = admin_client.common_location_path(PROJECT_ID, REGION)\n",
    "print(BASE_RESOURCE_PATH)\n",
    "print(admin_client)\n",
    "print(data_client)"
   ]
  },
  {
   "cell_type": "markdown",
   "id": "82f4ef82-5f02-40b7-bf2a-fe22818dbe47",
   "metadata": {},
   "source": [
    "hierarchical components of feature store. <br>\n",
    "Featurestore ---> Place to store the features. <br>\n",
    "    EntityType ---> Group of features (real or virtual) <br>\n",
    "        Feature ---> description of an attribute of the entity type"
   ]
  },
  {
   "cell_type": "markdown",
   "id": "5ab57bb1-e016-4a53-a34e-7d4eec3e1a2f",
   "metadata": {},
   "source": [
    "Creation of feature store"
   ]
  },
  {
   "cell_type": "code",
   "execution_count": null,
   "id": "e113c3aa-7e0d-4cec-bbf0-956e8c94a850",
   "metadata": {},
   "outputs": [],
   "source": [
    "create_lro = admin_client.create_featurestore(\n",
    "    featurestore_service_pb2.CreateFeaturestoreRequest(\n",
    "        parent=BASE_RESOURCE_PATH,\n",
    "        featurestore_id=FEATURESTORE_ID,\n",
    "        featurestore=featurestore_pb2.Featurestore(\n",
    "            online_serving_config=featurestore_pb2.Featurestore.OnlineServingConfig(\n",
    "                fixed_node_count=1\n",
    "            ),\n",
    "        ),\n",
    "    )\n",
    ")\n",
    "print(FEATURESTORE_ID)"
   ]
  },
  {
   "cell_type": "code",
   "execution_count": null,
   "id": "2d93129c-75d7-452c-9f9a-90630dccc180",
   "metadata": {},
   "outputs": [],
   "source": [
    "print(create_lro.result())\n",
    "admin_client.get_featurestore(name=admin_client.featurestore_path(PROJECT_ID, REGION, FEATURESTORE_ID))"
   ]
  },
  {
   "cell_type": "markdown",
   "id": "dddef6fa-3c41-4b1c-8368-651785d3a5aa",
   "metadata": {},
   "source": [
    "Creation of Entity Type"
   ]
  },
  {
   "cell_type": "code",
   "execution_count": null,
   "id": "ea09e357-b82b-47d7-bc6d-28eb9d647c56",
   "metadata": {},
   "outputs": [],
   "source": [
    "users_entity_type_lro = admin_client.create_entity_type(\n",
    "    featurestore_service_pb2.CreateEntityTypeRequest(\n",
    "        parent=admin_client.featurestore_path(PROJECT_ID, REGION, FEATURESTORE_ID),\n",
    "        entity_type_id=Entity_name,\n",
    "        entity_type=entity_type_pb2.EntityType(\n",
    "            description=\"customer entity\",\n",
    "        ),\n",
    "    )\n",
    ")\n",
    "\n",
    "# Similarly, wait for EntityType creation operation.\n",
    "print(users_entity_type_lro.result())"
   ]
  },
  {
   "cell_type": "markdown",
   "id": "eebfe55f-6869-4dab-977c-f387348ae185",
   "metadata": {},
   "source": [
    "Creation of feature"
   ]
  },
  {
   "cell_type": "code",
   "execution_count": null,
   "id": "9b0a2002-5ed9-45bb-8d67-4791216e7607",
   "metadata": {},
   "outputs": [],
   "source": [
    "admin_client.batch_create_features(\n",
    "    parent=admin_client.entity_type_path(PROJECT_ID, REGION, FEATURESTORE_ID, Entity_name),\n",
    "    requests=[\n",
    "        featurestore_service_pb2.CreateFeatureRequest(\n",
    "            feature=feature_pb2.Feature(\n",
    "                value_type=feature_pb2.Feature.ValueType.STRING,\n",
    "                description=\"id\",\n",
    "            ),\n",
    "            feature_id=\"customerid\",\n",
    "        ),\n",
    "        featurestore_service_pb2.CreateFeatureRequest(\n",
    "            feature=feature_pb2.Feature(\n",
    "                value_type=feature_pb2.Feature.ValueType.STRING,\n",
    "                description=\"gender\",\n",
    "            ),\n",
    "            feature_id=\"gender\",\n",
    "        ),\n",
    "        featurestore_service_pb2.CreateFeatureRequest(\n",
    "            feature=feature_pb2.Feature(\n",
    "                value_type=feature_pb2.Feature.ValueType.INT64,\n",
    "                description=\"senior citizen info\",\n",
    "            ),\n",
    "            feature_id=\"seniorcitizen\",\n",
    "        ),\n",
    "        featurestore_service_pb2.CreateFeatureRequest(\n",
    "            feature=feature_pb2.Feature(\n",
    "                value_type=feature_pb2.Feature.ValueType.STRING,\n",
    "                description=\"married\",\n",
    "            ),\n",
    "            feature_id=\"partner\",\n",
    "        ),\n",
    "        featurestore_service_pb2.CreateFeatureRequest(\n",
    "            feature=feature_pb2.Feature(\n",
    "                value_type=feature_pb2.Feature.ValueType.STRING,\n",
    "                description=\"dependents\",\n",
    "            ),\n",
    "            feature_id=\"dependents\",\n",
    "        ),\n",
    "        featurestore_service_pb2.CreateFeatureRequest(\n",
    "            feature=feature_pb2.Feature(\n",
    "                value_type=feature_pb2.Feature.ValueType.INT64,\n",
    "                description=\"tenure\",\n",
    "            ),\n",
    "            feature_id=\"tenure\",\n",
    "        ),\n",
    "        featurestore_service_pb2.CreateFeatureRequest(\n",
    "            feature=feature_pb2.Feature(\n",
    "                value_type=feature_pb2.Feature.ValueType.STRING,\n",
    "                description=\"phoneservice\",\n",
    "            ),\n",
    "            feature_id=\"phoneservice\",\n",
    "        ),\n",
    "        featurestore_service_pb2.CreateFeatureRequest(\n",
    "            feature=feature_pb2.Feature(\n",
    "                value_type=feature_pb2.Feature.ValueType.STRING,\n",
    "                description=\"multiplelines\",\n",
    "            ),\n",
    "            feature_id=\"multiplelines\",\n",
    "        ),\n",
    "        featurestore_service_pb2.CreateFeatureRequest(\n",
    "            feature=feature_pb2.Feature(\n",
    "                value_type=feature_pb2.Feature.ValueType.STRING,\n",
    "                description=\"internetservice\",\n",
    "            ),\n",
    "            feature_id=\"internetservice\",\n",
    "        ),\n",
    "        featurestore_service_pb2.CreateFeatureRequest(\n",
    "            feature=feature_pb2.Feature(\n",
    "                value_type=feature_pb2.Feature.ValueType.STRING,\n",
    "                description=\"onlinesecurity\",\n",
    "            ),\n",
    "            feature_id=\"onlinesecurity\",\n",
    "        ),\n",
    "        featurestore_service_pb2.CreateFeatureRequest(\n",
    "            feature=feature_pb2.Feature(\n",
    "                value_type=feature_pb2.Feature.ValueType.STRING,\n",
    "                description=\"onlinebackup\",\n",
    "            ),\n",
    "            feature_id=\"onlinebackup\",\n",
    "        ),\n",
    "        featurestore_service_pb2.CreateFeatureRequest(\n",
    "            feature=feature_pb2.Feature(\n",
    "                value_type=feature_pb2.Feature.ValueType.STRING,\n",
    "                description=\"deviceprotection\",\n",
    "            ),\n",
    "            feature_id=\"deviceprotection\",\n",
    "        ),\n",
    "        featurestore_service_pb2.CreateFeatureRequest(\n",
    "            feature=feature_pb2.Feature(\n",
    "                value_type=feature_pb2.Feature.ValueType.STRING,\n",
    "                description=\"techsupport\",\n",
    "            ),\n",
    "            feature_id=\"techsupport\",\n",
    "        ),\n",
    "        featurestore_service_pb2.CreateFeatureRequest(\n",
    "            feature=feature_pb2.Feature(\n",
    "                value_type=feature_pb2.Feature.ValueType.STRING,\n",
    "                description=\"streamingtv\",\n",
    "            ),\n",
    "            feature_id=\"streamingtv\",\n",
    "        ),\n",
    "        featurestore_service_pb2.CreateFeatureRequest(\n",
    "            feature=feature_pb2.Feature(\n",
    "                value_type=feature_pb2.Feature.ValueType.STRING,\n",
    "                description=\"streamingmovies\",\n",
    "            ),\n",
    "            feature_id=\"streamingmovies\",\n",
    "        ),\n",
    "        featurestore_service_pb2.CreateFeatureRequest(\n",
    "            feature=feature_pb2.Feature(\n",
    "                value_type=feature_pb2.Feature.ValueType.STRING,\n",
    "                description=\"contract\",\n",
    "            ),\n",
    "            feature_id=\"contract\",\n",
    "        ),\n",
    "        featurestore_service_pb2.CreateFeatureRequest(\n",
    "            feature=feature_pb2.Feature(\n",
    "                value_type=feature_pb2.Feature.ValueType.STRING,\n",
    "                description=\"paperlessbilling\",\n",
    "            ),\n",
    "            feature_id=\"paperlessbilling\",\n",
    "        ),\n",
    "        featurestore_service_pb2.CreateFeatureRequest(\n",
    "            feature=feature_pb2.Feature(\n",
    "                value_type=feature_pb2.Feature.ValueType.STRING,\n",
    "                description=\"paymentmethod\",\n",
    "            ),\n",
    "            feature_id=\"paymentmethod\",\n",
    "        ),\n",
    "        featurestore_service_pb2.CreateFeatureRequest(\n",
    "            feature=feature_pb2.Feature(\n",
    "                value_type=feature_pb2.Feature.ValueType.DOUBLE,\n",
    "                description=\"monthlycharges\",\n",
    "            ),\n",
    "            feature_id=\"monthlycharges\",\n",
    "        ),\n",
    "        featurestore_service_pb2.CreateFeatureRequest(\n",
    "            feature=feature_pb2.Feature(\n",
    "                value_type=feature_pb2.Feature.ValueType.DOUBLE,\n",
    "                description=\"totalcharges\",\n",
    "            ),\n",
    "            feature_id=\"totalcharges\",\n",
    "        ),\n",
    "    ],\n",
    ").result()"
   ]
  },
  {
   "cell_type": "code",
   "execution_count": null,
   "id": "6e4bca01-eb68-4570-a1c5-40d4e9e7245d",
   "metadata": {},
   "outputs": [],
   "source": [
    "# Search for all features across all featurestores.\n",
    "list(admin_client.search_features(location=BASE_RESOURCE_PATH))\n",
    "#list(admin_client.search_features(location=BASE_RESOURCE_PATH,query=\"feature_id=fs_test\"))"
   ]
  },
  {
   "cell_type": "code",
   "execution_count": null,
   "id": "2bf1c412-21e0-407f-87eb-2ee5b1801cbe",
   "metadata": {},
   "outputs": [],
   "source": [
    "# Search for all features with value type `DOUBLE`\n",
    "list(admin_client.search_features(featurestore_service_pb2.SearchFeaturesRequest(location=BASE_RESOURCE_PATH, query=\"value_type=DOUBLE\"))\n",
    ")"
   ]
  },
  {
   "cell_type": "markdown",
   "id": "6d4a783b-e8d3-4e8b-adca-364844387d17",
   "metadata": {},
   "source": [
    "Importing values to all the features created"
   ]
  },
  {
   "cell_type": "code",
   "execution_count": null,
   "id": "8014f54d-3d2d-4b3b-a64c-f1c714b77764",
   "metadata": {},
   "outputs": [],
   "source": [
    "from google.protobuf.timestamp_pb2 import Timestamp\n",
    "t = datetime.datetime.now().timestamp()\n",
    "seconds = int(t)\n",
    "nanos = int(t % 1 * 1e9)\n",
    "proto_timestamp = Timestamp(seconds=seconds)\n",
    "import_data = featurestore_service_pb2.ImportFeatureValuesRequest(\n",
    "    entity_type=admin_client.entity_type_path(\n",
    "        PROJECT_ID, REGION, FEATURESTORE_ID, Entity_name\n",
    "    ),\n",
    "    csv_source=io_pb2.CsvSource(\n",
    "        # Source\n",
    "        gcs_source=io_pb2.GcsSource(\n",
    "            uris=[\n",
    "                \"gs://feature_store_upload/CHURN_features.csv\"\n",
    "            ]\n",
    "        )\n",
    "    ),\n",
    "    entity_id_field=\"customerid\",\n",
    "    feature_specs=[\n",
    "        # Features\n",
    "        featurestore_service_pb2.ImportFeatureValuesRequest.FeatureSpec(id=\"customerid\"),\n",
    "        featurestore_service_pb2.ImportFeatureValuesRequest.FeatureSpec(id=\"gender\"),\n",
    "        featurestore_service_pb2.ImportFeatureValuesRequest.FeatureSpec(id=\"seniorcitizen\"),\n",
    "        featurestore_service_pb2.ImportFeatureValuesRequest.FeatureSpec(id=\"partner\"),\n",
    "        featurestore_service_pb2.ImportFeatureValuesRequest.FeatureSpec(id=\"dependents\"),\n",
    "        featurestore_service_pb2.ImportFeatureValuesRequest.FeatureSpec(id=\"tenure\"),\n",
    "        featurestore_service_pb2.ImportFeatureValuesRequest.FeatureSpec(id=\"phoneservice\"),\n",
    "        featurestore_service_pb2.ImportFeatureValuesRequest.FeatureSpec(id=\"multiplelines\"),\n",
    "        featurestore_service_pb2.ImportFeatureValuesRequest.FeatureSpec(id=\"internetservice\"),\n",
    "        featurestore_service_pb2.ImportFeatureValuesRequest.FeatureSpec(id=\"onlinesecurity\"),\n",
    "        featurestore_service_pb2.ImportFeatureValuesRequest.FeatureSpec(id=\"onlinebackup\"),\n",
    "        featurestore_service_pb2.ImportFeatureValuesRequest.FeatureSpec(id=\"deviceprotection\"),\n",
    "        featurestore_service_pb2.ImportFeatureValuesRequest.FeatureSpec(id=\"techsupport\"),\n",
    "        featurestore_service_pb2.ImportFeatureValuesRequest.FeatureSpec(id=\"streamingtv\"),\n",
    "        featurestore_service_pb2.ImportFeatureValuesRequest.FeatureSpec(id=\"streamingmovies\"),\n",
    "        featurestore_service_pb2.ImportFeatureValuesRequest.FeatureSpec(id=\"contract\"),\n",
    "        featurestore_service_pb2.ImportFeatureValuesRequest.FeatureSpec(id=\"paperlessbilling\"),\n",
    "        featurestore_service_pb2.ImportFeatureValuesRequest.FeatureSpec(id=\"paymentmethod\"),\n",
    "        featurestore_service_pb2.ImportFeatureValuesRequest.FeatureSpec(id=\"monthlycharges\"),\n",
    "        featurestore_service_pb2.ImportFeatureValuesRequest.FeatureSpec(id=\"totalcharges\"),\n",
    "\n",
    "    ],\n",
    "    #feature_time_field=column_name containing the timestamp information in csv or in big query.\n",
    "    feature_time=proto_timestamp, #time stamp needs to be in google.protobuf.Timestamp\n",
    "    worker_count=1,\n",
    ")"
   ]
  },
  {
   "cell_type": "code",
   "execution_count": null,
   "id": "bb69130b-f7e6-45a5-9905-8ae451ade9a8",
   "metadata": {},
   "outputs": [],
   "source": [
    "ingestion_lro = admin_client.import_feature_values(import_data)"
   ]
  },
  {
   "cell_type": "code",
   "execution_count": null,
   "id": "30ccf9ef-bf1f-4074-9d35-6ccb0ba41685",
   "metadata": {},
   "outputs": [],
   "source": [
    "ingestion_lro.result()"
   ]
  },
  {
   "cell_type": "code",
   "execution_count": null,
   "id": "7df7d98d-d8ed-45d6-b730-5cc81c2b781f",
   "metadata": {},
   "outputs": [],
   "source": [
    "FEATURESTORE_ID=\"fs_test\"\n",
    "feature_selector = FeatureSelector(id_matcher=IdMatcher(ids=[\"customerid\",\"gender\",\"seniorcitizen\",\"partner\",\"dependents\",\"tenure\",\"phoneservice\",\"multiplelines\",\"internetservice\",\"onlinesecurity\",\"onlinebackup\",\"deviceprotection\",\"techsupport\",\"streamingtv\",\"streamingmovies\",\"contract\",\"paperlessbilling\",\"paymentmethod\",\"monthlycharges\",\"totalcharges\"]))\n",
    "print(feature_selector)"
   ]
  },
  {
   "cell_type": "code",
   "execution_count": null,
   "id": "c371612c-1b18-43e4-8dc7-98f74f85a9da",
   "metadata": {},
   "outputs": [],
   "source": [
    "#The output is an iterator\n",
    "response_stream = data_client.streaming_read_feature_values(\n",
    "    featurestore_online_service_pb2.StreamingReadFeatureValuesRequest(\n",
    "        entity_type=admin_client.entity_type_path(\n",
    "            PROJECT_ID, REGION, FEATURESTORE_ID, Entity_name\n",
    "        ),\n",
    "        entity_ids=[\"1699-HPSBG\"],\n",
    "        feature_selector=feature_selector,\n",
    "    )\n",
    ")\n",
    "print(response_stream)\n",
    "type(response_stream)\n"
   ]
  },
  {
   "cell_type": "code",
   "execution_count": null,
   "id": "9828c340-2213-4f88-965e-00ffa5853783",
   "metadata": {},
   "outputs": [],
   "source": [
    "for response in response_stream:\n",
    "    print(response)"
   ]
  },
  {
   "cell_type": "code",
   "execution_count": null,
   "id": "b866980e-1ed8-4516-8819-5d879e37ae76",
   "metadata": {},
   "outputs": [],
   "source": [
    "\n",
    "i=0\n",
    "column_names=[]\n",
    "\n",
    "for response in response_stream:\n",
    "    \n",
    "    y=response.header\n",
    "    if y.feature_descriptors != \"\":\n",
    "        for head in y.feature_descriptors:\n",
    "            column_names.append(head.id)\n",
    "    \n",
    "    z=response.entity_view\n",
    "    try:\n",
    "        list1=[]\n",
    "        for items in z.data:\n",
    "            if items.value.string_value !=\"\":\n",
    "                list1.append(items.value.string_value)\n",
    "            if items.value.double_value !=\"\":\n",
    "                list1.append(items.value.double_value)\n",
    "    except:pass\n",
    "print(\"Feature Names --->\",column_names)\n",
    "print(\"Feature Values --->\",list1)"
   ]
  },
  {
   "cell_type": "markdown",
   "id": "f5edea28-3461-4f43-929d-2cb18c940d14",
   "metadata": {},
   "source": [
    "<B>DELETION OF FEATURE STORE</B>"
   ]
  },
  {
   "cell_type": "markdown",
   "id": "d927d760-d5c7-4721-8be3-604024bb0874",
   "metadata": {},
   "source": [
    "FEATURESTORE_ID=\"test\"\n",
    "admin_client.delete_featurestore(\n",
    "    request=featurestore_service_pb2.DeleteFeaturestoreRequest(\n",
    "        name=admin_client.featurestore_path(PROJECT_ID, REGION, FEATURESTORE_ID),\n",
    "        force=True,\n",
    "    )\n",
    ").result()\n",
    "#client.delete_dataset(DESTINATION_DATA_SET, delete_contents=True, not_found_ok=True)  # Make an API request.\n",
    "\n",
    "print(\"Deleted featurestore '{}'.\".format(FEATURESTORE_ID))"
   ]
  }
 ],
 "metadata": {
  "environment": {
   "kernel": "python3",
   "name": "common-cpu.m87",
   "type": "gcloud",
   "uri": "gcr.io/deeplearning-platform-release/base-cpu:m87"
  },
  "kernelspec": {
   "display_name": "Python 3",
   "language": "python",
   "name": "python3"
  },
  "language_info": {
   "codemirror_mode": {
    "name": "ipython",
    "version": 3
   },
   "file_extension": ".py",
   "mimetype": "text/x-python",
   "name": "python",
   "nbconvert_exporter": "python",
   "pygments_lexer": "ipython3",
   "version": "3.7.12"
  }
 },
 "nbformat": 4,
 "nbformat_minor": 5
}
