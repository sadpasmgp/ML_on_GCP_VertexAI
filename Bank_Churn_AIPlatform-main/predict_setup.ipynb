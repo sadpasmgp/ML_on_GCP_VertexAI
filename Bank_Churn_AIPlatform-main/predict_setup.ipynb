{
 "cells": [
  {
   "cell_type": "code",
   "execution_count": 1,
   "metadata": {},
   "outputs": [
    {
     "name": "stdout",
     "output_type": "stream",
     "text": [
      "Writing predictor.py\n"
     ]
    }
   ],
   "source": [
    "%%writefile predictor.py\n",
    "\n",
    "import os\n",
    "\n",
    "import numpy as np\n",
    "import joblib\n",
    "import pandas as pd\n",
    "\n",
    "class ChurnPredictor(object):\n",
    "\n",
    "    _COLUMN_NAMES=['CLIENTNUM','Customer_Age','Gender','Dependent_count','Education_Level','Marital_Status','Income_Category','Card_Category','Months_on_book','Total_Relationship_Count','Months_Inactive_12_mon','Contacts_Count_12_mon','Credit_Limit','Total_Revolving_Bal','Avg_Open_To_Buy','Total_Amt_Chng_Q4_Q1','Total_Trans_Amt','Total_Trans_Ct','Total_Ct_Chng_Q4_Q1','Avg_Utilization_Ratio']\n",
    "\n",
    "    def __init__(self, model):\n",
    "        self._model = model\n",
    "        #self.col=[]\n",
    "\n",
    "    def predict(self, instances, **kwargs):\n",
    "        inputs = pd.DataFrame(data=[instances], columns=self._COLUMN_NAMES)\n",
    "        outputs = self._model.predict(inputs)\n",
    "        return outputs.tolist()\n",
    "\n",
    "    @classmethod\n",
    "    def from_path(cls, model_dir):\n",
    "        model_path = os.path.join(model_dir, 'model.joblib')\n",
    "        model = joblib.load(model_path)\n",
    "        #self._COLUMN_NAMES=['CLIENTNUM','Customer_Age','Gender','Dependent_count','Education_Level','Marital_Status','Income_Category','Card_Category','Months_on_book','Total_Relationship_Count','Months_Inactive_12_mon','Contacts_Count_12_mon','Credit_Limit','Total_Revolving_Bal','Avg_Open_To_Buy','Total_Amt_Chng_Q4_Q1','Total_Trans_Amt','Total_Trans_Ct','Total_Ct_Chng_Q4_Q1','Avg_Utilization_Ratio']\n",
    "        return cls(model)"
   ]
  },
  {
   "cell_type": "code",
   "execution_count": 2,
   "metadata": {},
   "outputs": [
    {
     "name": "stdout",
     "output_type": "stream",
     "text": [
      "['No']\n"
     ]
    }
   ],
   "source": [
    "from predictor import ChurnPredictor\n",
    "\n",
    "col_names=['CLIENTNUM','Customer_Age','Gender','Dependent_count','Education_Level','Marital_Status','Income_Category','Card_Category','Months_on_book','Total_Relationship_Count','Months_Inactive_12_mon','Contacts_Count_12_mon','Credit_Limit','Total_Revolving_Bal','Avg_Open_To_Buy','Total_Amt_Chng_Q4_Q1','Total_Trans_Amt','Total_Trans_Ct','Total_Ct_Chng_Q4_Q1','Avg_Utilization_Ratio']\n",
    "model = ChurnPredictor.from_path('.')\n",
    "#print(model._model)\n",
    "instance = [768805383,45,'M','3','Graduate','Married','Unknown','Blue',39,5,1,3,12691,777,11914,1.335,1144,42,1.625,0.061]\n",
    "\n",
    "print(model.predict(instance))"
   ]
  },
  {
   "cell_type": "code",
   "execution_count": 3,
   "metadata": {},
   "outputs": [
    {
     "name": "stdout",
     "output_type": "stream",
     "text": [
      "Writing setup.py\n"
     ]
    }
   ],
   "source": [
    "%%writefile setup.py\n",
    "from setuptools import setup\n",
    "from setuptools import find_packages\n",
    "\n",
    "REQUIRED_PACKAGES = ['xgboost','scikit-learn']\n",
    "\n",
    "setup(\n",
    "    name='custom_predict',\n",
    "    version='0.1',\n",
    "    install_requires=REQUIRED_PACKAGES,\n",
    "    packages=find_packages(),\n",
    "    include_package_data=True,\n",
    "    scripts=['predictor.py'])"
   ]
  },
  {
   "cell_type": "code",
   "execution_count": 4,
   "metadata": {},
   "outputs": [
    {
     "name": "stdout",
     "output_type": "stream",
     "text": [
      "running sdist\n",
      "running egg_info\n",
      "creating custom_predict.egg-info\n",
      "writing custom_predict.egg-info/PKG-INFO\n",
      "writing dependency_links to custom_predict.egg-info/dependency_links.txt\n",
      "writing requirements to custom_predict.egg-info/requires.txt\n",
      "writing top-level names to custom_predict.egg-info/top_level.txt\n",
      "writing manifest file 'custom_predict.egg-info/SOURCES.txt'\n",
      "reading manifest file 'custom_predict.egg-info/SOURCES.txt'\n",
      "writing manifest file 'custom_predict.egg-info/SOURCES.txt'\n",
      "running check\n",
      "warning: check: missing required meta-data: url\n",
      "\n",
      "warning: check: missing meta-data: either (author and author_email) or (maintainer and maintainer_email) must be supplied\n",
      "\n",
      "creating custom_predict-0.1\n",
      "creating custom_predict-0.1/custom_predict.egg-info\n",
      "copying files to custom_predict-0.1...\n",
      "copying README.md -> custom_predict-0.1\n",
      "copying predictor.py -> custom_predict-0.1\n",
      "copying setup.py -> custom_predict-0.1\n",
      "copying custom_predict.egg-info/PKG-INFO -> custom_predict-0.1/custom_predict.egg-info\n",
      "copying custom_predict.egg-info/SOURCES.txt -> custom_predict-0.1/custom_predict.egg-info\n",
      "copying custom_predict.egg-info/dependency_links.txt -> custom_predict-0.1/custom_predict.egg-info\n",
      "copying custom_predict.egg-info/requires.txt -> custom_predict-0.1/custom_predict.egg-info\n",
      "copying custom_predict.egg-info/top_level.txt -> custom_predict-0.1/custom_predict.egg-info\n",
      "Writing custom_predict-0.1/setup.cfg\n",
      "creating dist\n",
      "Creating tar archive\n",
      "removing 'custom_predict-0.1' (and everything under it)\n"
     ]
    }
   ],
   "source": [
    "!python setup.py sdist --formats=gztar"
   ]
  },
  {
   "cell_type": "code",
   "execution_count": 5,
   "metadata": {},
   "outputs": [
    {
     "name": "stdout",
     "output_type": "stream",
     "text": [
      "Copying file://./dist/custom_predict-0.1.tar.gz [Content-Type=application/x-tar]...\n",
      "/ [1 files][  1.2 KiB/  1.2 KiB]                                                \n",
      "Operation completed over 1 objects/1.2 KiB.                                      \n"
     ]
    }
   ],
   "source": [
    "!gsutil cp ./dist/custom_predict-0.1.tar.gz gs://aiplatform_demo/custom_predict-0.1.tar.gz\n"
   ]
  },
  {
   "cell_type": "code",
   "execution_count": null,
   "metadata": {},
   "outputs": [],
   "source": []
  },
  {
   "cell_type": "code",
   "execution_count": 6,
   "metadata": {},
   "outputs": [
    {
     "name": "stdout",
     "output_type": "stream",
     "text": [
      "Using endpoint [https://ml.googleapis.com/]\n",
      "Created ml engine model [projects/srivatsan-project/models/ChurnPredictor].\n"
     ]
    }
   ],
   "source": [
    "!gcloud beta ai-platform models create ChurnPredictor --regions us-central1 --enable-console-logging"
   ]
  },
  {
   "cell_type": "code",
   "execution_count": null,
   "metadata": {},
   "outputs": [],
   "source": [
    "!sudo apt-get install google-cloud-sdk"
   ]
  },
  {
   "cell_type": "code",
   "execution_count": null,
   "metadata": {},
   "outputs": [],
   "source": [
    "!gcloud components list"
   ]
  },
  {
   "cell_type": "code",
   "execution_count": 1,
   "metadata": {},
   "outputs": [
    {
     "name": "stderr",
     "output_type": "stream",
     "text": [
      "'gcloud' is not recognized as an internal or external command,\n",
      "operable program or batch file.\n"
     ]
    }
   ],
   "source": [
    "! gcloud beta ai-platform versions create V2 \\\n",
    "  --model ChurnPredictor \\\n",
    "  --runtime-version 2.6 \\\n",
    "  --python-version 3.7 \\\n",
    "  --origin gs://aiplatform_demo/ \\\n",
    "  --package-uris gs://aiplatform_demo/custom_predict-0.1.tar.gz \\\n",
    "  --region global \\\n",
    "  --machine-type mls1-c4-m2 \\\n",
    "  --prediction-class predictor.ChurnPredictor "
   ]
  },
  {
   "cell_type": "code",
   "execution_count": null,
   "metadata": {},
   "outputs": [],
   "source": [
    "instances=['768805383',45,'M','3','High School','Married','$60K - $80K','Blue',39,5,1,3,12691,777,11914,1.335,1144,42,1.625,0.061]"
   ]
  },
  {
   "cell_type": "code",
   "execution_count": 8,
   "metadata": {},
   "outputs": [
    {
     "name": "stdout",
     "output_type": "stream",
     "text": [
      "Using endpoint [https://ml.googleapis.com/]\n",
      "['No']\n"
     ]
    }
   ],
   "source": [
    "!gcloud ai-platform predict --model ChurnPredictor --region global --version V1 --json-request input.json"
   ]
  },
  {
   "cell_type": "code",
   "execution_count": null,
   "metadata": {},
   "outputs": [],
   "source": []
  }
 ],
 "metadata": {
  "environment": {
   "name": "common-cpu.m59",
   "type": "gcloud",
   "uri": "gcr.io/deeplearning-platform-release/base-cpu:m59"
  },
  "kernelspec": {
   "display_name": "Python 3",
   "language": "python",
   "name": "python3"
  },
  "language_info": {
   "codemirror_mode": {
    "name": "ipython",
    "version": 3
   },
   "file_extension": ".py",
   "mimetype": "text/x-python",
   "name": "python",
   "nbconvert_exporter": "python",
   "pygments_lexer": "ipython3",
   "version": "3.8.5"
  }
 },
 "nbformat": 4,
 "nbformat_minor": 4
}
